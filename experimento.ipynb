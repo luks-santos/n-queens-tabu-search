{
 "cells": [
  {
   "cell_type": "code",
   "execution_count": 118,
   "metadata": {},
   "outputs": [],
   "source": [
    "import random\n",
    "from itertools import combinations\n",
    "import matplotlib.pyplot as plt\n",
    "import numpy as np\n",
    "import time"
   ]
  },
  {
   "cell_type": "code",
   "execution_count": 3,
   "metadata": {},
   "outputs": [],
   "source": [
    "#Variaveis experimento\n",
    "EXEC_SOLUTIONS = 30\n",
    "MAX_ITERATIONS = 55\n",
    "QUEENS_QUANTITY = 100\n",
    "MOVEMENT_TIME = 10"
   ]
  },
  {
   "cell_type": "code",
   "execution_count": 4,
   "metadata": {},
   "outputs": [],
   "source": [
    "def objective_func(candidate_solution, size_solution):\n",
    "    positive_diagonal = [0 for _ in range(size_solution)]\n",
    "    negative_diagonal = [0 for _ in range(size_solution)]\n",
    "\n",
    "    for index in range(size_solution):\n",
    "        k_positive = index - candidate_solution[index]\n",
    "        k_negative = index + candidate_solution[index]\n",
    "\n",
    "        positive_diagonal[index] = k_positive\n",
    "        negative_diagonal[index] = k_negative\n",
    "\n",
    "    fit_solution = 0\n",
    "    fit_solution += (len(positive_diagonal) - len(set(positive_diagonal)))\n",
    "    fit_solution += (len(negative_diagonal) - len(set(negative_diagonal)))\n",
    "\n",
    "    return fit_solution"
   ]
  },
  {
   "cell_type": "code",
   "execution_count": 5,
   "metadata": {},
   "outputs": [],
   "source": [
    "def generate_tabu_matrix(size_combinations):\n",
    "    tabu_matrix = [[0 for _ in range(size_combinations)], [0 for _ in range(size_combinations)]]\n",
    "    return tabu_matrix"
   ]
  },
  {
   "cell_type": "code",
   "execution_count": 6,
   "metadata": {},
   "outputs": [],
   "source": [
    " \n",
    "def generate_next_move(current_solution, current_fit, possible_moves, size_moves, tabu_matrix, n_iteration):\n",
    "    candidate_solution = current_solution.copy()\n",
    "    neighbor_solutions = []\n",
    "    # Retorna os indices de movimentos possíveis de acordo com MOVEMENT_TIME\n",
    "    index_moves = [index for index in range(size_moves) if tabu_matrix[0][index] < n_iteration]\n",
    "\n",
    "    for move in index_moves:\n",
    "        candidate_solution[possible_moves[move][0]] = current_solution[possible_moves[move][1]]\n",
    "        candidate_solution[possible_moves[move][1]] = current_solution[possible_moves[move][0]]\n",
    "\n",
    "        candidate_fit = objective_func(candidate_solution, len(current_solution))\n",
    "\n",
    "        if candidate_fit < current_fit:\n",
    "            # tabu matrix[0] armazena tempo de congelamento; tabu matrix[1] quantidade de vezes do movimento\n",
    "            tabu_matrix[0][move] += n_iteration + MOVEMENT_TIME\n",
    "            tabu_matrix[1][move] += 1\n",
    "\n",
    "            return candidate_solution, candidate_fit, tabu_matrix\n",
    "        else:\n",
    "            if candidate_fit == current_fit:\n",
    "                neighbor_solutions.append([candidate_solution, candidate_fit, move])\n",
    "\n",
    "            candidate_solution = current_solution.copy()\n",
    "\n",
    "    if len(neighbor_solutions):\n",
    "        neighbor_candidate_solution = random.sample(neighbor_solutions, k=1)[0]\n",
    "\n",
    "        move = neighbor_candidate_solution[2]\n",
    "        tabu_matrix[0][move] += n_iteration + MOVEMENT_TIME\n",
    "        tabu_matrix[1][move] += 1\n",
    "\n",
    "        return neighbor_candidate_solution[0], neighbor_candidate_solution[1], tabu_matrix\n",
    "    else:\n",
    "        min_move = min(tabu_matrix[1])\n",
    "        min_move_index = tabu_matrix[1].index(min_move)\n",
    "        tabu_matrix[1][min_move_index] += 1\n",
    "\n",
    "        candidate_solution[possible_moves[min_move_index][0]] = current_solution[possible_moves[min_move_index][1]]\n",
    "        candidate_solution[possible_moves[min_move_index][1]] = current_solution[possible_moves[min_move_index][0]]\n",
    "\n",
    "        candidate_fit = objective_func(candidate_solution, len(current_solution))\n",
    "\n",
    "        return candidate_solution, candidate_fit, tabu_matrix"
   ]
  },
  {
   "cell_type": "code",
   "execution_count": 25,
   "metadata": {},
   "outputs": [],
   "source": [
    "\n",
    "initial_seconds = time.time()\n",
    "\n",
    "fitness_exc = [[] for _ in range(EXEC_SOLUTIONS)]\n",
    "iteration_exc = [[] for _ in range(EXEC_SOLUTIONS)]\n",
    "time_exc = [[] for _ in range(EXEC_SOLUTIONS)]\n",
    "\n",
    "possible_moves = list(combinations(list(range(QUEENS_QUANTITY)), r=2))\n",
    "size_moves = len(possible_moves)\n",
    "\n",
    "for exc in range(EXEC_SOLUTIONS):\n",
    "    best_solution = random.sample(range(0, QUEENS_QUANTITY), QUEENS_QUANTITY)\n",
    "    best_fit = objective_func(best_solution, QUEENS_QUANTITY)\n",
    "\n",
    "    tabu_matrix = generate_tabu_matrix(size_moves)\n",
    "\n",
    "    n_iteration = 0S\n",
    "    initial_seconds = time.time()\n",
    "    while n_iteration < MAX_ITERATIONS and best_fit != 0:\n",
    "        \n",
    "\n",
    "        fitness_exc[exc].append(best_fit)\n",
    "        iteration_exc[exc].append(n_iteration)\n",
    "\n",
    "        best_solution, best_fit, tabu_matrix = generate_next_move(\n",
    "            best_solution, best_fit, possible_moves, size_moves, tabu_matrix, n_iteration)\n",
    "\n",
    "        n_iteration += 1\n",
    "\n",
    "    time_exc[exc].append(time.time() - initial_seconds)\n",
    "    fitness_exc[exc].append(best_fit)\n",
    "    iteration_exc[exc].append(n_iteration)\n",
    "\n"
   ]
  },
  {
   "cell_type": "markdown",
   "metadata": {},
   "source": [
    "### Dados experimento fit"
   ]
  },
  {
   "cell_type": "code",
   "execution_count": 59,
   "metadata": {},
   "outputs": [],
   "source": [
    "max_length = max(len(seq) for seq in fitness_exc)\n",
    "\n",
    "fitness_exc_preenchido = [seq + [0] * (max_length - len(seq)) for seq in fitness_exc]"
   ]
  },
  {
   "cell_type": "code",
   "execution_count": 113,
   "metadata": {},
   "outputs": [
    {
     "name": "stdout",
     "output_type": "stream",
     "text": [
      "30\n"
     ]
    }
   ],
   "source": [
    "np_fitness_exc = np.array(fitness_exc_preenchido)"
   ]
  },
  {
   "cell_type": "code",
   "execution_count": 110,
   "metadata": {},
   "outputs": [
    {
     "name": "stdout",
     "output_type": "stream",
     "text": [
      "[51.83333333 51.96666667 50.5        49.36666667 48.26666667 47.2\n",
      " 46.13333333 45.         43.93333333 42.8        41.8        40.7\n",
      " 39.6        38.56666667 37.53333333 36.5        35.43333333 34.4\n",
      " 33.33333333 32.2        31.16666667 30.13333333 29.13333333 28.03333333\n",
      " 27.         25.96666667 24.9        23.86666667 22.8        21.76666667\n",
      " 20.7        19.7        18.7        17.7        16.7        15.66666667\n",
      " 14.6        13.6        12.6        11.53333333 10.53333333  9.56666667\n",
      "  8.63333333  7.7         6.83333333  6.          5.2         4.43333333\n",
      "  3.63333333  2.86666667  2.16666667  1.66666667  1.26666667  0.93333333\n",
      "  0.73333333  0.5       ]\n"
     ]
    }
   ],
   "source": [
    "fitness_mean = np.mean(np_fitness_exc, axis=0)\n",
    "print(np.mean(np_fitness_exc, axis=0))"
   ]
  },
  {
   "cell_type": "code",
   "execution_count": 48,
   "metadata": {},
   "outputs": [
    {
     "name": "stdout",
     "output_type": "stream",
     "text": [
      "[4.61940352 4.61507193 4.65295605 4.67962487 4.73943269 4.74973683\n",
      " 4.78701949 4.73990155 4.77446914 4.79861091 4.79861091 4.85214729\n",
      " 4.89625707 4.95771004 4.95131857 5.01165309 4.94424469 4.91663842\n",
      " 4.98887652 5.02261552 5.05360158 5.0314566  5.0314566  4.98319398\n",
      " 4.97326184 5.04964245 5.03554035 5.01818914 4.96252624 4.94424469\n",
      " 4.91358661 4.91358661 4.91358661 4.91358661 4.91358661 4.86026977\n",
      " 4.88944441 4.8        4.8        4.84928403 4.84928403 4.77970245\n",
      " 4.63668943 4.45084262 4.17997873 3.92428337 3.64600238 3.34348454\n",
      " 3.10358216 2.8720879  2.54405625 2.24103151 1.89619502 1.56914697\n",
      " 1.31487219 0.99163165]\n"
     ]
    }
   ],
   "source": [
    "print(np.std(np_fitness_exc, axis=0))"
   ]
  },
  {
   "cell_type": "code",
   "execution_count": 75,
   "metadata": {},
   "outputs": [
    {
     "name": "stdout",
     "output_type": "stream",
     "text": [
      "[52.5 53.  52.  50.5 49.  48.  47.  46.  45.  44.  43.  42.  41.  40.\n",
      " 38.5 37.5 36.  35.  34.  33.  32.  31.  30.  29.  28.  27.  25.5 24.5\n",
      " 23.5 22.5 21.  20.  19.  18.  17.  16.  15.  14.  13.  12.  11.  10.\n",
      "  9.   8.   7.   6.   5.   4.   3.   2.   1.   1.   0.5  0.   0.   0. ]\n"
     ]
    }
   ],
   "source": [
    "print(np.median(np_fitness_exc, axis=0))"
   ]
  },
  {
   "cell_type": "markdown",
   "metadata": {},
   "source": [
    "#### Graficos fit"
   ]
  },
  {
   "cell_type": "code",
   "execution_count": 96,
   "metadata": {},
   "outputs": [],
   "source": [
    "iteration_exc = [cont for cont in range(MAX_ITERATIONS + 1)] "
   ]
  },
  {
   "cell_type": "code",
   "execution_count": 107,
   "metadata": {},
   "outputs": [
    {
     "data": {
      "image/png": "[encoded data removed]",
      "text/plain": [
       "<Figure size 400x250 with 1 Axes>"
      ]
     },
     "metadata": {},
     "output_type": "display_data"
    }
   ],
   "source": [
    "# Defina o tamanho da figura em polegadas (tamanho típico para artigos IEEE)\n",
    "largura_figura = 4\n",
    "altura_figura = 2.5  # Você pode ajustar a altura conforme necessário\n",
    "\n",
    "# Crie a figura com o tamanho especificado\n",
    "plt.figure(figsize=(largura_figura, altura_figura))\n",
    "\n",
    "plt.plot(iteration_exc, fitness_mean, color='black')\n",
    "\n",
    "# Definir rótulos dos eixos\n",
    "plt.xlabel('Número de Iterações')\n",
    "plt.ylabel('Conflitos Rainhas')\n",
    "\n",
    "# Exibir o gráfico\n",
    "plt.grid(True)\n",
    "plt.show()"
   ]
  },
  {
   "cell_type": "markdown",
   "metadata": {},
   "source": [
    "### Tempo"
   ]
  },
  {
   "cell_type": "code",
   "execution_count": 41,
   "metadata": {},
   "outputs": [
    {
     "name": "stdout",
     "output_type": "stream",
     "text": [
      "[1.04262173]\n"
     ]
    }
   ],
   "source": [
    "print(np.median(time_exc, axis=0))"
   ]
  },
  {
   "cell_type": "code",
   "execution_count": 116,
   "metadata": {},
   "outputs": [
    {
     "data": {
      "text/plain": [
       "array([0.427946])"
      ]
     },
     "execution_count": 116,
     "metadata": {},
     "output_type": "execute_result"
    }
   ],
   "source": [
    "np.std(time_exc, axis=0)"
   ]
  },
  {
   "cell_type": "code",
   "execution_count": 117,
   "metadata": {},
   "outputs": [
    {
     "data": {
      "text/plain": [
       "array([1.04262173])"
      ]
     },
     "execution_count": 117,
     "metadata": {},
     "output_type": "execute_result"
    }
   ],
   "source": [
    "np.median(time_exc, axis=0)"
   ]
  }
 ],
 "metadata": {
  "kernelspec": {
   "display_name": "IA",
   "language": "python",
   "name": "python3"
  },
  "language_info": {
   "codemirror_mode": {
    "name": "ipython",
    "version": 3
   },
   "file_extension": ".py",
   "mimetype": "text/x-python",
   "name": "python",
   "nbconvert_exporter": "python",
   "pygments_lexer": "ipython3",
   "version": "3.10.13"
  },
  "orig_nbformat": 4
 },
 "nbformat": 4,
 "nbformat_minor": 2
}
